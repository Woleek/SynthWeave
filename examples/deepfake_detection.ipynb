{
 "cells": [
  {
   "cell_type": "code",
   "execution_count": null,
   "metadata": {},
   "outputs": [],
   "source": [
    "import torch"
   ]
  },
  {
   "cell_type": "markdown",
   "metadata": {},
   "source": [
    "Load uni-modal models"
   ]
  },
  {
   "cell_type": "code",
   "execution_count": null,
   "metadata": {},
   "outputs": [],
   "source": [
    "from ellzaf_ml.models import GhostFaceNetsV2\n",
    "import wespeaker"
   ]
  },
  {
   "cell_type": "code",
   "execution_count": null,
   "metadata": {},
   "outputs": [],
   "source": [
    "model_v = GhostFaceNetsV2(image_size=112, width=1, dropout=0.)\n",
    "model_a = wespeaker.load_model(\"campplus\").model"
   ]
  },
  {
   "cell_type": "markdown",
   "metadata": {},
   "source": [
    "Check expected input shapes"
   ]
  },
  {
   "cell_type": "code",
   "execution_count": null,
   "metadata": {},
   "outputs": [],
   "source": [
    "model_v(torch.randn(2, 3, 112, 112)).shape"
   ]
  },
  {
   "cell_type": "code",
   "execution_count": null,
   "metadata": {},
   "outputs": [],
   "source": [
    "model_a(torch.randn(2, 3, 80)).shape"
   ]
  },
  {
   "cell_type": "markdown",
   "metadata": {},
   "source": [
    "Load fusion module"
   ]
  },
  {
   "cell_type": "code",
   "execution_count": null,
   "metadata": {},
   "outputs": [],
   "source": [
    "from synthweave.fusion import CFF, AFF, IAFF, CAFF, GFF\n",
    "\n",
    "# or\n",
    "\n",
    "from synthweave.utils import get_fusion"
   ]
  },
  {
   "cell_type": "code",
   "execution_count": null,
   "metadata": {},
   "outputs": [],
   "source": [
    "fusion = GFF(\n",
    "    output_dim=256,\n",
    "    # dropout=True,\n",
    "    # input_dims=[512, 192], # infer automatically during 1st forward pass\n",
    ")\n",
    "\n",
    "# or\n",
    "\n",
    "fusion = get_fusion(\"gff\", output_dim=256)"
   ]
  },
  {
   "cell_type": "markdown",
   "metadata": {},
   "source": [
    "Construct pipeline"
   ]
  },
  {
   "cell_type": "code",
   "execution_count": null,
   "metadata": {},
   "outputs": [],
   "source": [
    "from synthweave.pipeline import BasePipeline"
   ]
  },
  {
   "cell_type": "code",
   "execution_count": null,
   "metadata": {},
   "outputs": [],
   "source": [
    "pipe = BasePipeline(\n",
    "    models={\n",
    "        \"video\": model_v,\n",
    "        \"audio\": model_a\n",
    "    },\n",
    "    fusion=fusion,\n",
    "    head=torch.nn.Sequential(torch.nn.Linear(256, 1), torch.nn.Sigmoid())\n",
    ")\n",
    "pipe.eval();"
   ]
  },
  {
   "cell_type": "markdown",
   "metadata": {},
   "source": [
    "Run the pipeline"
   ]
  },
  {
   "cell_type": "code",
   "execution_count": null,
   "metadata": {},
   "outputs": [],
   "source": [
    "dummy_v = torch.randn(2, 3, 112, 112)\n",
    "dummy_a = torch.randn(2, 3, 80)\n",
    "\n",
    "inputs = {\n",
    "    \"video\": dummy_v,\n",
    "    \"audio\": dummy_a\n",
    "}\n",
    "\n",
    "pipe(inputs)"
   ]
  }
 ],
 "metadata": {
  "kernelspec": {
   "display_name": "MMDDPF",
   "language": "python",
   "name": "python3"
  },
  "language_info": {
   "codemirror_mode": {
    "name": "ipython",
    "version": 3
   },
   "file_extension": ".py",
   "mimetype": "text/x-python",
   "name": "python",
   "nbconvert_exporter": "python",
   "pygments_lexer": "ipython3",
   "version": "3.11.10"
  }
 },
 "nbformat": 4,
 "nbformat_minor": 2
}
