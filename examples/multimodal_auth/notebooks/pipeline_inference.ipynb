{
 "cells": [
  {
   "cell_type": "code",
   "execution_count": null,
   "metadata": {},
   "outputs": [],
   "source": [
    "import sys\n",
    "from pathlib import Path\n",
    "sys.path.append(str(Path(__file__).resolve().parent.parent))"
   ]
  },
  {
   "cell_type": "code",
   "execution_count": null,
   "metadata": {},
   "outputs": [],
   "source": [
    "import torch\n",
    "from src.pipe import MultiModalAuthPipeline, ImagePreprocessor, AudioPreprocessor, AdaFace, ReDimNet\n",
    "from synthweave.utils.datasets import get_datamodule\n",
    "from synthweave.utils.fusion import get_fusion\n",
    "from pathlib import Path\n",
    "import json\n",
    "from tqdm.auto import tqdm\n",
    "from torchmetrics.classification import F1Score, Accuracy\n",
    "\n",
    "class dotdict(dict):\n",
    "    def __getattr__(self, name):\n",
    "        return self[name]\n",
    "\n",
    "    def __setattr__(self, name, value):\n",
    "        self[name] = value"
   ]
  },
  {
   "cell_type": "markdown",
   "metadata": {},
   "source": [
    "### DATASET"
   ]
  },
  {
   "cell_type": "code",
   "execution_count": null,
   "metadata": {},
   "outputs": [],
   "source": [
    "ds_kwargs = {\n",
    "    \"data_dir\": \"../encoded_data/DeepSpeak_v1_1\",\n",
    "    \"preprocessed\": True,\n",
    "    \"sample_mode\": \"sequence\",\n",
    "}\n",
    "\n",
    "dm = get_datamodule(\n",
    "    \"DeepSpeak_v1_1\",\n",
    "    batch_size=1, # NOTE: currently single window fusions don't ignore padding\n",
    "    dataset_kwargs=ds_kwargs,\n",
    "    sample_mode=\"sequence\",  # single, sequence\n",
    "    clip_mode = None,\n",
    "    pad_mode = 'zeros'\n",
    ")\n",
    "\n",
    "dm.setup()"
   ]
  },
  {
   "cell_type": "code",
   "execution_count": null,
   "metadata": {},
   "outputs": [],
   "source": [
    "test_loader = dm.test_dataloader()\n",
    "next(iter(test_loader))['video'].squeeze(0).shape"
   ]
  },
  {
   "cell_type": "markdown",
   "metadata": {},
   "source": [
    "### PIPELINE"
   ]
  },
  {
   "cell_type": "code",
   "execution_count": null,
   "metadata": {},
   "outputs": [],
   "source": [
    "FUSION = \"MMD\"\n",
    "TASK = \"binary\"\n",
    "\n",
    "path = Path(\"logs\") / TASK / FUSION\n",
    "path = sorted(path.glob(\"version_*\"))[-1]\n",
    "\n",
    "# config\n",
    "args = json.loads((path / \"args.json\").read_text())\n",
    "args = dotdict(args)\n",
    "\n",
    "# best checkpoint\n",
    "ckpt = path / \"checkpoints\"\n",
    "ckpt = sorted(ckpt.glob(\"epoch=*.ckpt\"))[-1]"
   ]
  },
  {
   "cell_type": "code",
   "execution_count": null,
   "metadata": {},
   "outputs": [],
   "source": [
    "fusion = get_fusion(\n",
    "    fusion_name=FUSION,\n",
    "    output_dim=512,\n",
    "    modality_keys=[\"video\", \"audio\"],\n",
    "    out_proj_dim=1024,\n",
    "    num_att_heads=4,  # only for attention-based fusions\n",
    "    n_layers=3,\n",
    "    dropout=0.1,\n",
    ")\n",
    "\n",
    "fusion.eval();"
   ]
  },
  {
   "cell_type": "code",
   "execution_count": null,
   "metadata": {},
   "outputs": [],
   "source": [
    "fusion({\"audio\": torch.randn(1, 128), \"video\": torch.randn(1, 512)}).shape"
   ]
  },
  {
   "cell_type": "code",
   "execution_count": null,
   "metadata": {},
   "outputs": [],
   "source": [
    "models = {\"audio\": torch.nn.Identity(), \"video\": torch.nn.Identity()}\n",
    "\n",
    "EMB_DIM = args.emb_dim\n",
    "\n",
    "fusion = get_fusion(\n",
    "    fusion_name=FUSION,\n",
    "    output_dim=EMB_DIM,\n",
    "    modality_keys=[\"video\", \"audio\"],\n",
    "    out_proj_dim=args.proj_dim,\n",
    "    num_att_heads=4,  # only for attention-based fusions\n",
    "    dropout=args.dropout,\n",
    ")\n",
    "\n",
    "if args.task == \"binary\":\n",
    "    detection_head = torch.nn.Sequential(\n",
    "        torch.nn.Linear(EMB_DIM, 1), torch.nn.Sigmoid()\n",
    "    )\n",
    "elif args.task == \"fine-grained\":\n",
    "    detection_head = torch.nn.Sequential(\n",
    "        torch.nn.Linear(EMB_DIM, 4), torch.nn.Softmax(dim=1)\n",
    "    )\n",
    "\n",
    "pipe = MultiModalAuthPipeline(\n",
    "    models=models,\n",
    "    fusion=fusion,\n",
    "    detection_head=detection_head,\n",
    "    freeze_backbone=True,\n",
    ")\n",
    "\n",
    "state_dict = torch.load(ckpt, map_location=\"cpu\")['state_dict']\n",
    "state_dict = {k.replace(\"pipeline.\", \"\"): v for k, v in state_dict.items()}\n",
    "pipe.load_state_dict(state_dict, strict=False)\n",
    "\n",
    "pipe = pipe.cuda()\n",
    "pipe.eval();"
   ]
  },
  {
   "cell_type": "markdown",
   "metadata": {},
   "source": [
    "EXAMPLE EVAL RUN"
   ]
  },
  {
   "cell_type": "code",
   "execution_count": null,
   "metadata": {},
   "outputs": [],
   "source": [
    "sample = next(iter(test_loader))\n",
    "\n",
    "# Place on GPU\n",
    "sample[\"video\"] = sample[\"video\"].squeeze(0).cuda()\n",
    "sample[\"audio\"] = sample[\"audio\"].squeeze(0).cuda()\n",
    "\n",
    "with torch.no_grad():\n",
    "    out = pipe(sample)\n",
    "    \n",
    "    preds = (out[\"logits\"] > 0.5).type(torch.int64).cpu()\n",
    "    final_pred = torch.mode(preds, dim=0).values # NOTE: Majority vote\n",
    "    \n",
    "    print(\"GT:\", sample['metadata'][\"label\"].cpu().item())\n",
    "    print(\"Pred:\", final_pred.item())"
   ]
  },
  {
   "cell_type": "markdown",
   "metadata": {},
   "source": [
    "EVALUATION"
   ]
  },
  {
   "cell_type": "code",
   "execution_count": null,
   "metadata": {},
   "outputs": [],
   "source": [
    "f1 = F1Score(task=\"binary\")\n",
    "acc = Accuracy(task=\"binary\")"
   ]
  },
  {
   "cell_type": "code",
   "execution_count": null,
   "metadata": {},
   "outputs": [],
   "source": [
    "f1.reset()\n",
    "acc.reset()\n",
    "\n",
    "train_loader = dm.train_dataloader()\n",
    "for sample in tqdm(train_loader):\n",
    "    sample[\"video\"] = sample[\"video\"].squeeze(0).cuda()\n",
    "    sample[\"audio\"] = sample[\"audio\"].squeeze(0).cuda()\n",
    "\n",
    "    with torch.no_grad():\n",
    "        out = pipe(sample)\n",
    "        \n",
    "        preds = (out[\"logits\"] > 0.5).type(torch.int64).cpu()\n",
    "        final_pred = torch.mode(preds, dim=0).values\n",
    "        gt = sample['metadata'][\"label\"].cpu()\n",
    "        \n",
    "        f1.update(final_pred, gt)\n",
    "        acc.update(final_pred, gt)\n",
    "        \n",
    "print(f\"Train F1:  {f1.compute().item(): .3f}\")\n",
    "print(f\"Train Acc: {acc.compute().item(): .3f}\")"
   ]
  },
  {
   "cell_type": "code",
   "execution_count": null,
   "metadata": {},
   "outputs": [],
   "source": [
    "f1.reset()\n",
    "acc.reset()\n",
    "\n",
    "dev_loader = dm.val_dataloader()\n",
    "for sample in tqdm(dev_loader):\n",
    "    sample[\"video\"] = sample[\"video\"].squeeze(0).cuda()\n",
    "    sample[\"audio\"] = sample[\"audio\"].squeeze(0).cuda()\n",
    "\n",
    "    with torch.no_grad():\n",
    "        out = pipe(sample)\n",
    "        \n",
    "        preds = (out[\"logits\"] > 0.5).type(torch.int64).cpu()\n",
    "        final_pred = torch.mode(preds, dim=0).values\n",
    "        gt = sample['metadata'][\"label\"].cpu()\n",
    "        \n",
    "        f1.update(final_pred, gt)\n",
    "        acc.update(final_pred, gt)\n",
    "\n",
    "print(f\"Dev F1:  {f1.compute().item(): .3f}\")\n",
    "print(f\"Dev Acc: {acc.compute().item(): .3f}\")"
   ]
  },
  {
   "cell_type": "code",
   "execution_count": null,
   "metadata": {},
   "outputs": [],
   "source": [
    "f1.reset()\n",
    "acc.reset()\n",
    "\n",
    "test_loader = dm.test_dataloader()\n",
    "for sample in tqdm(test_loader):\n",
    "    sample[\"video\"] = sample[\"video\"].squeeze(0).cuda()\n",
    "    sample[\"audio\"] = sample[\"audio\"].squeeze(0).cuda()\n",
    "\n",
    "    with torch.no_grad():\n",
    "        out = pipe(sample)\n",
    "        \n",
    "        preds = (out[\"logits\"] > 0.5).type(torch.int64).cpu()\n",
    "        final_pred = torch.mode(preds, dim=0).values\n",
    "        gt = sample['metadata'][\"label\"].cpu()\n",
    "        \n",
    "        f1.update(final_pred, gt)\n",
    "        acc.update(final_pred, gt)\n",
    "        \n",
    "print(f\"Test F1:  {f1.compute().item(): .3f}\")\n",
    "print(f\"Test Acc: {acc.compute().item(): .3f}\")"
   ]
  },
  {
   "cell_type": "code",
   "execution_count": null,
   "metadata": {},
   "outputs": [],
   "source": [
    "# out[\"video_ref\"] = torch.rand_like(out[\"video\"])\n",
    "# out[\"audio_ref\"] = torch.rand_like(out[\"audio\"])\n",
    "\n",
    "# # out['video_ref'] = out['video'].clone()\n",
    "# # out['audio_ref'] = out['audio'].clone()\n",
    "\n",
    "# with torch.no_grad():\n",
    "#     sim = pipe.verify(out)"
   ]
  },
  {
   "cell_type": "code",
   "execution_count": null,
   "metadata": {},
   "outputs": [],
   "source": [
    "# sim[\"video\"][0].item(), sim[\"audio\"][0].item()"
   ]
  }
 ],
 "metadata": {
  "kernelspec": {
   "display_name": ".venv",
   "language": "python",
   "name": "python3"
  },
  "language_info": {
   "codemirror_mode": {
    "name": "ipython",
    "version": 3
   },
   "file_extension": ".py",
   "mimetype": "text/x-python",
   "name": "python",
   "nbconvert_exporter": "python",
   "pygments_lexer": "ipython3",
   "version": "3.12.3"
  }
 },
 "nbformat": 4,
 "nbformat_minor": 2
}
