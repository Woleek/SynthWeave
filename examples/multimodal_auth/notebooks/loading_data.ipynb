{
 "cells": [
  {
   "cell_type": "code",
   "execution_count": 22,
   "metadata": {},
   "outputs": [],
   "source": [
    "import sys\n",
    "sys.path.append('..')\n",
    "from synthweave.utils.datasets import get_datamodule, get_dataset\n",
    "from src.pipe import ImagePreprocessor, AudioPreprocessor"
   ]
  },
  {
   "cell_type": "markdown",
   "metadata": {},
   "source": [
    "DATASET"
   ]
  },
  {
   "cell_type": "code",
   "execution_count": 23,
   "metadata": {},
   "outputs": [],
   "source": [
    "ds_kwargs = {\n",
    "    \"data_dir\": \"../encoded_data/SWAN_DF_320\",\n",
    "    \"preprocessed\": True,\n",
    "    \"sample_mode\": \"single\",\n",
    "    \"av_codes\": [\"00\", \"11\"]\n",
    "}\n",
    "\n",
    "train = get_dataset(\"SWAN_DF\", split=\"train\", **ds_kwargs)\n",
    "dev = get_dataset(\"SWAN_DF\", split=\"dev\", **ds_kwargs)\n",
    "test = get_dataset(\"SWAN_DF\", split=\"test\", **ds_kwargs)"
   ]
  },
  {
   "cell_type": "code",
   "execution_count": 24,
   "metadata": {},
   "outputs": [
    {
     "data": {
      "text/plain": [
       "(torch.Size([512]), torch.Size([192]))"
      ]
     },
     "execution_count": 24,
     "metadata": {},
     "output_type": "execute_result"
    }
   ],
   "source": [
    "train[0]['video'].shape, train[0]['audio'].shape"
   ]
  },
  {
   "cell_type": "code",
   "execution_count": 25,
   "metadata": {},
   "outputs": [
    {
     "data": {
      "text/plain": [
       "{'label': np.int64(1),\n",
       " 'av': np.int64(1),\n",
       " 'id_source': '00010',\n",
       " 'id_target': '00047'}"
      ]
     },
     "execution_count": 25,
     "metadata": {},
     "output_type": "execute_result"
    }
   ],
   "source": [
    "train[0]['metadata']"
   ]
  },
  {
   "cell_type": "code",
   "execution_count": 26,
   "metadata": {},
   "outputs": [],
   "source": [
    "# vid_proc = ImagePreprocessor(window_len=4, step=1, head_pose_dir='../../../models/head_pose')\n",
    "# aud_proc = AudioPreprocessor(window_len=4, step=1)\n",
    "\n",
    "# ds_kwargs = {\n",
    "#     'video_processor': vid_proc, 'audio_processor': aud_proc, 'mode': 'full'\n",
    "# }\n",
    "\n",
    "# ds = get_dataset(\"DeepSpeak_v1_1\", split=\"train\", **ds_kwargs)"
   ]
  },
  {
   "cell_type": "markdown",
   "metadata": {},
   "source": [
    "### DATALOADER"
   ]
  },
  {
   "cell_type": "code",
   "execution_count": 27,
   "metadata": {},
   "outputs": [],
   "source": [
    "dm = get_datamodule(\n",
    "    \"SWAN_DF\",\n",
    "    batch_size=4,\n",
    "    dataset_kwargs=ds_kwargs,\n",
    "    sample_mode=\"single\",  # single, sequence\n",
    "    clip_mode=\"id\",  # 'id', 'idx'\n",
    "    clip_to=2,  # 'min', int\n",
    "    clip_selector=\"random\",  # 'first', 'random'\n",
    ")\n",
    "\n",
    "# Example: max first 2 single window samples per id in batch\n",
    "\n",
    "dm.setup(\"fit\")"
   ]
  },
  {
   "cell_type": "code",
   "execution_count": 28,
   "metadata": {},
   "outputs": [],
   "source": [
    "train_loader = dm.train_dataloader()\n",
    "sample = next(iter(train_loader))"
   ]
  },
  {
   "cell_type": "markdown",
   "metadata": {},
   "source": [
    "### EXAMPLE BATCH"
   ]
  },
  {
   "cell_type": "code",
   "execution_count": 29,
   "metadata": {},
   "outputs": [
    {
     "data": {
      "text/plain": [
       "torch.Size([4, 512])"
      ]
     },
     "execution_count": 29,
     "metadata": {},
     "output_type": "execute_result"
    }
   ],
   "source": [
    "sample[\"video\"].shape"
   ]
  },
  {
   "cell_type": "code",
   "execution_count": 30,
   "metadata": {},
   "outputs": [
    {
     "data": {
      "text/plain": [
       "torch.Size([4, 192])"
      ]
     },
     "execution_count": 30,
     "metadata": {},
     "output_type": "execute_result"
    }
   ],
   "source": [
    "sample[\"audio\"].shape"
   ]
  },
  {
   "cell_type": "code",
   "execution_count": 31,
   "metadata": {},
   "outputs": [
    {
     "data": {
      "text/plain": [
       "tensor([0, 1, 1, 1])"
      ]
     },
     "execution_count": 31,
     "metadata": {},
     "output_type": "execute_result"
    }
   ],
   "source": [
    "sample[\"metadata\"][\"label\"]"
   ]
  },
  {
   "cell_type": "code",
   "execution_count": 32,
   "metadata": {},
   "outputs": [
    {
     "data": {
      "text/plain": [
       "array(['0', '1', '1', '1'], dtype='<U1')"
      ]
     },
     "execution_count": 32,
     "metadata": {},
     "output_type": "execute_result"
    }
   ],
   "source": [
    "dm.train_dataset.encoders[\"label\"].inverse_transform(sample[\"metadata\"][\"label\"])"
   ]
  },
  {
   "cell_type": "code",
   "execution_count": 33,
   "metadata": {},
   "outputs": [
    {
     "data": {
      "text/plain": [
       "tensor([0, 1, 1, 1])"
      ]
     },
     "execution_count": 33,
     "metadata": {},
     "output_type": "execute_result"
    }
   ],
   "source": [
    "sample[\"metadata\"][\"av\"]"
   ]
  },
  {
   "cell_type": "code",
   "execution_count": 34,
   "metadata": {},
   "outputs": [
    {
     "data": {
      "text/plain": [
       "array(['00', '11', '11', '11'], dtype='<U2')"
      ]
     },
     "execution_count": 34,
     "metadata": {},
     "output_type": "execute_result"
    }
   ],
   "source": [
    "dm.train_dataset.encoders[\"av\"].inverse_transform(sample[\"metadata\"][\"av\"])"
   ]
  }
 ],
 "metadata": {
  "kernelspec": {
   "display_name": ".venv",
   "language": "python",
   "name": "python3"
  },
  "language_info": {
   "codemirror_mode": {
    "name": "ipython",
    "version": 3
   },
   "file_extension": ".py",
   "mimetype": "text/x-python",
   "name": "python",
   "nbconvert_exporter": "python",
   "pygments_lexer": "ipython3",
   "version": "3.12.3"
  }
 },
 "nbformat": 4,
 "nbformat_minor": 2
}
