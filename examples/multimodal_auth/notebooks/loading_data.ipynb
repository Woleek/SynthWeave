{
 "cells": [
  {
   "cell_type": "code",
   "execution_count": 5,
   "metadata": {},
   "outputs": [],
   "source": [
    "import sys\n",
    "from pathlib import Path\n",
    "sys.path.append(str(Path(__file__).resolve().parent.parent))\n",
    "from synthweave.utils.datasets import get_datamodule, get_dataset\n",
    "from src.pipe import ImagePreprocessor, AudioPreprocessor"
   ]
  },
  {
   "cell_type": "code",
   "execution_count": 12,
   "metadata": {},
   "outputs": [],
   "source": [
    "ds_kwargs = {\n",
    "    \"data_dir\": \"./processed_data/DeepSpeak_v1_1\",\n",
    "    \"preprocessed\": True,\n",
    "    \"sample_mode\": \"sequence\",\n",
    "}\n",
    "\n",
    "train = get_dataset(\"DeepSpeak_v1_1\", split=\"train\", **ds_kwargs)\n",
    "dev = get_dataset(\"DeepSpeak_v1_1\", split=\"dev\", **ds_kwargs)\n",
    "test = get_dataset(\"DeepSpeak_v1_1\", split=\"test\", **ds_kwargs)"
   ]
  },
  {
   "cell_type": "code",
   "execution_count": 3,
   "metadata": {},
   "outputs": [],
   "source": [
    "# vid_proc = ImagePreprocessor(window_len=4, step=1, head_pose_dir='../../../models/head_pose')\n",
    "# aud_proc = AudioPreprocessor(window_len=4, step=1)\n",
    "\n",
    "# ds_kwargs = {\n",
    "#     'video_processor': vid_proc, 'audio_processor': aud_proc, 'mode': 'full'\n",
    "# }\n",
    "\n",
    "# ds = get_dataset(\"DeepSpeak_v1_1\", split=\"train\", **ds_kwargs)"
   ]
  },
  {
   "cell_type": "markdown",
   "metadata": {},
   "source": [
    "### DATALOADER"
   ]
  },
  {
   "cell_type": "code",
   "execution_count": 9,
   "metadata": {},
   "outputs": [],
   "source": [
    "dm = get_datamodule(\n",
    "    \"DeepSpeak_v1_1\",\n",
    "    batch_size=32,\n",
    "    dataset_kwargs=ds_kwargs,\n",
    "    sample_mode=\"single\",  # single, sequence\n",
    "    clip_mode=\"id\",  # 'id', 'idx'\n",
    "    clip_to=2,  # 'min', int\n",
    "    clip_selector=\"random\",  # 'first', 'random'\n",
    ")\n",
    "\n",
    "# Example: max first 2 single window samples per id in batch\n",
    "\n",
    "dm.setup(\"fit\")"
   ]
  },
  {
   "cell_type": "code",
   "execution_count": 10,
   "metadata": {},
   "outputs": [],
   "source": [
    "train_loader = dm.train_dataloader()"
   ]
  },
  {
   "cell_type": "code",
   "execution_count": 11,
   "metadata": {},
   "outputs": [],
   "source": [
    "sample = next(iter(train_loader))"
   ]
  },
  {
   "cell_type": "markdown",
   "metadata": {},
   "source": [
    "### EXAMPLE BATCH"
   ]
  },
  {
   "cell_type": "code",
   "execution_count": 12,
   "metadata": {},
   "outputs": [
    {
     "data": {
      "text/plain": [
       "torch.Size([32, 3, 112, 112])"
      ]
     },
     "execution_count": 12,
     "metadata": {},
     "output_type": "execute_result"
    }
   ],
   "source": [
    "sample[\"video\"].shape"
   ]
  },
  {
   "cell_type": "code",
   "execution_count": 13,
   "metadata": {},
   "outputs": [
    {
     "data": {
      "text/plain": [
       "torch.Size([32, 1, 64000])"
      ]
     },
     "execution_count": 13,
     "metadata": {},
     "output_type": "execute_result"
    }
   ],
   "source": [
    "sample[\"audio\"].shape"
   ]
  },
  {
   "cell_type": "code",
   "execution_count": 14,
   "metadata": {},
   "outputs": [
    {
     "data": {
      "text/plain": [
       "tensor([1, 1, 1, 1, 1, 1, 0, 1, 1, 1, 0, 0, 1, 1, 1, 1, 0, 1, 1, 1, 1, 0, 1, 1,\n",
       "        1, 0, 1, 1, 1, 1, 0, 1])"
      ]
     },
     "execution_count": 14,
     "metadata": {},
     "output_type": "execute_result"
    }
   ],
   "source": [
    "sample[\"metadata\"][\"label\"]"
   ]
  },
  {
   "cell_type": "code",
   "execution_count": 15,
   "metadata": {},
   "outputs": [
    {
     "data": {
      "text/plain": [
       "array(['1', '1', '1', '1', '1', '1', '0', '1', '1', '1', '0', '0', '1',\n",
       "       '1', '1', '1', '0', '1', '1', '1', '1', '0', '1', '1', '1', '0',\n",
       "       '1', '1', '1', '1', '0', '1'], dtype='<U1')"
      ]
     },
     "execution_count": 15,
     "metadata": {},
     "output_type": "execute_result"
    }
   ],
   "source": [
    "dm.train_dataset.encoders[\"label\"].inverse_transform(sample[\"metadata\"][\"label\"])"
   ]
  },
  {
   "cell_type": "code",
   "execution_count": 16,
   "metadata": {},
   "outputs": [
    {
     "data": {
      "text/plain": [
       "tensor([1, 2, 1, 1, 2, 2, 0, 2, 1, 1, 0, 0, 2, 2, 2, 2, 0, 2, 1, 2, 2, 0, 1, 1,\n",
       "        2, 0, 2, 1, 1, 1, 0, 2])"
      ]
     },
     "execution_count": 16,
     "metadata": {},
     "output_type": "execute_result"
    }
   ],
   "source": [
    "sample[\"metadata\"][\"av\"]"
   ]
  },
  {
   "cell_type": "code",
   "execution_count": 17,
   "metadata": {},
   "outputs": [
    {
     "data": {
      "text/plain": [
       "array(['01', '10', '01', '01', '10', '10', '00', '10', '01', '01', '00',\n",
       "       '00', '10', '10', '10', '10', '00', '10', '01', '10', '10', '00',\n",
       "       '01', '01', '10', '00', '10', '01', '01', '01', '00', '10'],\n",
       "      dtype='<U2')"
      ]
     },
     "execution_count": 17,
     "metadata": {},
     "output_type": "execute_result"
    }
   ],
   "source": [
    "dm.train_dataset.encoders[\"av\"].inverse_transform(sample[\"metadata\"][\"av\"])"
   ]
  }
 ],
 "metadata": {
  "kernelspec": {
   "display_name": ".venv",
   "language": "python",
   "name": "python3"
  },
  "language_info": {
   "codemirror_mode": {
    "name": "ipython",
    "version": 3
   },
   "file_extension": ".py",
   "mimetype": "text/x-python",
   "name": "python",
   "nbconvert_exporter": "python",
   "pygments_lexer": "ipython3",
   "version": "3.12.3"
  }
 },
 "nbformat": 4,
 "nbformat_minor": 2
}
