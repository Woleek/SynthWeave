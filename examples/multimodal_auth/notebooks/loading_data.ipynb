{
 "cells": [
  {
   "cell_type": "code",
   "execution_count": null,
   "metadata": {},
   "outputs": [],
   "source": [
    "import sys\n",
    "sys.path.append('..')\n",
    "from synthweave.utils.datasets import get_datamodule, get_dataset\n",
    "from src.pipe import ImagePreprocessor, AudioPreprocessor"
   ]
  },
  {
   "cell_type": "markdown",
   "metadata": {},
   "source": [
    "DATASET"
   ]
  },
  {
   "cell_type": "code",
   "execution_count": null,
   "metadata": {},
   "outputs": [],
   "source": [
    "ds_kwargs = {\n",
    "    \"data_dir\": \"../encoded_data/SWAN_DF_320\",\n",
    "    \"preprocessed\": True,\n",
    "    \"sample_mode\": \"single\",\n",
    "    \"av_codes\": [\"00\", \"11\"]\n",
    "}\n",
    "\n",
    "train = get_dataset(\"SWAN_DF\", split=\"train\", **ds_kwargs)\n",
    "dev = get_dataset(\"SWAN_DF\", split=\"dev\", **ds_kwargs)\n",
    "test = get_dataset(\"SWAN_DF\", split=\"test\", **ds_kwargs)"
   ]
  },
  {
   "cell_type": "code",
   "execution_count": null,
   "metadata": {},
   "outputs": [],
   "source": [
    "train[0]['video'].shape, train[0]['audio'].shape"
   ]
  },
  {
   "cell_type": "code",
   "execution_count": null,
   "metadata": {},
   "outputs": [],
   "source": [
    "train[0]['metadata']"
   ]
  },
  {
   "cell_type": "code",
   "execution_count": null,
   "metadata": {},
   "outputs": [],
   "source": [
    "# vid_proc = ImagePreprocessor(window_len=4, step=1, head_pose_dir='../../../models/head_pose')\n",
    "# aud_proc = AudioPreprocessor(window_len=4, step=1)\n",
    "\n",
    "# ds_kwargs = {\n",
    "#     'video_processor': vid_proc, 'audio_processor': aud_proc, 'mode': 'full'\n",
    "# }\n",
    "\n",
    "# ds = get_dataset(\"DeepSpeak_v1_1\", split=\"train\", **ds_kwargs)"
   ]
  },
  {
   "cell_type": "markdown",
   "metadata": {},
   "source": [
    "### DATALOADER"
   ]
  },
  {
   "cell_type": "code",
   "execution_count": null,
   "metadata": {},
   "outputs": [],
   "source": [
    "dm = get_datamodule(\n",
    "    \"SWAN_DF\",\n",
    "    batch_size=4,\n",
    "    dataset_kwargs=ds_kwargs,\n",
    "    sample_mode=\"single\",  # single, sequence\n",
    "    clip_mode=\"id\",  # 'id', 'idx'\n",
    "    clip_to=2,  # 'min', int\n",
    "    clip_selector=\"random\",  # 'first', 'random'\n",
    ")\n",
    "\n",
    "# Example: max first 2 single window samples per id in batch\n",
    "\n",
    "dm.setup(\"fit\")"
   ]
  },
  {
   "cell_type": "code",
   "execution_count": null,
   "metadata": {},
   "outputs": [],
   "source": [
    "train_loader = dm.train_dataloader()\n",
    "sample = next(iter(train_loader))"
   ]
  },
  {
   "cell_type": "markdown",
   "metadata": {},
   "source": [
    "### EXAMPLE BATCH"
   ]
  },
  {
   "cell_type": "code",
   "execution_count": null,
   "metadata": {},
   "outputs": [],
   "source": [
    "sample[\"video\"].shape"
   ]
  },
  {
   "cell_type": "code",
   "execution_count": null,
   "metadata": {},
   "outputs": [],
   "source": [
    "sample[\"audio\"].shape"
   ]
  },
  {
   "cell_type": "code",
   "execution_count": null,
   "metadata": {},
   "outputs": [],
   "source": [
    "sample[\"metadata\"][\"label\"]"
   ]
  },
  {
   "cell_type": "code",
   "execution_count": null,
   "metadata": {},
   "outputs": [],
   "source": [
    "dm.train_dataset.encoders[\"label\"].inverse_transform(sample[\"metadata\"][\"label\"])"
   ]
  },
  {
   "cell_type": "code",
   "execution_count": null,
   "metadata": {},
   "outputs": [],
   "source": [
    "sample[\"metadata\"][\"av\"]"
   ]
  },
  {
   "cell_type": "code",
   "execution_count": null,
   "metadata": {},
   "outputs": [],
   "source": [
    "dm.train_dataset.encoders[\"av\"].inverse_transform(sample[\"metadata\"][\"av\"])"
   ]
  }
 ],
 "metadata": {
  "kernelspec": {
   "display_name": ".venv",
   "language": "python",
   "name": "python3"
  },
  "language_info": {
   "codemirror_mode": {
    "name": "ipython",
    "version": 3
   },
   "file_extension": ".py",
   "mimetype": "text/x-python",
   "name": "python",
   "nbconvert_exporter": "python",
   "pygments_lexer": "ipython3",
   "version": "3.12.3"
  }
 },
 "nbformat": 4,
 "nbformat_minor": 2
}
