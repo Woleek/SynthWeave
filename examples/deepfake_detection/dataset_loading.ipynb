{
 "cells": [
  {
   "cell_type": "code",
   "execution_count": 1,
   "metadata": {},
   "outputs": [],
   "source": [
    "from synthweave.utils.datasets import get_dataset"
   ]
  },
  {
   "cell_type": "markdown",
   "metadata": {},
   "source": [
    "### LAV-DF"
   ]
  },
  {
   "cell_type": "code",
   "execution_count": 2,
   "metadata": {},
   "outputs": [],
   "source": [
    "lav = get_dataset(\"LAV-DF\", root=\"../../../data/LAV-DF\", metadata_file=\"metadata.min.json\", split=\"test\")"
   ]
  },
  {
   "cell_type": "code",
   "execution_count": 3,
   "metadata": {},
   "outputs": [],
   "source": [
    "sample = lav[0]\n",
    "vid = sample[\"video\"]\n",
    "aud = sample[\"audio\"]\n",
    "meta = sample[\"metadata\"]"
   ]
  },
  {
   "cell_type": "code",
   "execution_count": 4,
   "metadata": {},
   "outputs": [
    {
     "name": "stdout",
     "output_type": "stream",
     "text": [
      "Video (T, H, W, C): torch.Size([103, 224, 224, 3])\n",
      "Audio (T, C): torch.Size([1, 66560])\n"
     ]
    }
   ],
   "source": [
    "print(\"Video (T, H, W, C):\", vid.shape)\n",
    "print(\"Audio (T, C):\", aud.shape)"
   ]
  },
  {
   "cell_type": "code",
   "execution_count": 5,
   "metadata": {},
   "outputs": [
    {
     "data": {
      "text/plain": [
       "{'file': 'test/000001.mp4',\n",
       " 'n_fakes': 0,\n",
       " 'fake_periods': [],\n",
       " 'duration': 4.224,\n",
       " 'original': None,\n",
       " 'modify_video': False,\n",
       " 'modify_audio': False,\n",
       " 'split': 'test',\n",
       " 'video_frames': 103,\n",
       " 'audio_channels': 1,\n",
       " 'audio_frames': 65536,\n",
       " 'video_fps': 25.0,\n",
       " 'audio_fps': 16000}"
      ]
     },
     "execution_count": 5,
     "metadata": {},
     "output_type": "execute_result"
    }
   ],
   "source": [
    "meta"
   ]
  },
  {
   "cell_type": "markdown",
   "metadata": {},
   "source": [
    "### DeepSpeak_v1"
   ]
  },
  {
   "cell_type": "code",
   "execution_count": 6,
   "metadata": {},
   "outputs": [],
   "source": [
    "ds = get_dataset(\"DeepSpeak_v1\", split=\"test\")"
   ]
  },
  {
   "cell_type": "code",
   "execution_count": 7,
   "metadata": {},
   "outputs": [],
   "source": [
    "sample = ds[0]\n",
    "vid = sample[\"video\"]\n",
    "aud = sample[\"audio\"]\n",
    "meta = sample[\"metadata\"]"
   ]
  },
  {
   "cell_type": "code",
   "execution_count": 8,
   "metadata": {},
   "outputs": [
    {
     "name": "stdout",
     "output_type": "stream",
     "text": [
      "Video (T, H, W, C): torch.Size([631, 480, 640, 3])\n",
      "Audio (T, C): torch.Size([1, 1009664])\n"
     ]
    }
   ],
   "source": [
    "print(\"Video (T, H, W, C):\", vid.shape)\n",
    "print(\"Audio (T, C):\", aud.shape)"
   ]
  },
  {
   "cell_type": "code",
   "execution_count": 9,
   "metadata": {},
   "outputs": [
    {
     "data": {
      "text/plain": [
       "{'kind': 'face-swap',\n",
       " 'engine': 'facefusion',\n",
       " 'identity-source': '118',\n",
       " 'identity-target': '119',\n",
       " 'recording-source': '1626',\n",
       " 'recording-target': '1737',\n",
       " 'recording-target-ai-generated': 'False',\n",
       " 'gesture-type': 'no-gesture',\n",
       " 'script-type': 'scripted-long',\n",
       " 'type': 'fake',\n",
       " 'file': '/home/woleek/.cache/huggingface/datasets/downloads/extracted/f8274fc47cb886c388f8da9530b5557c47fa3e8a26dcd2974928af5b074592f5/facefusion--118-119--1626-1737--0.mp4',\n",
       " 'video_fps': 30.0,\n",
       " 'audio_fps': 48000}"
      ]
     },
     "execution_count": 9,
     "metadata": {},
     "output_type": "execute_result"
    }
   ],
   "source": [
    "meta"
   ]
  }
 ],
 "metadata": {
  "kernelspec": {
   "display_name": ".venv",
   "language": "python",
   "name": "python3"
  },
  "language_info": {
   "codemirror_mode": {
    "name": "ipython",
    "version": 3
   },
   "file_extension": ".py",
   "mimetype": "text/x-python",
   "name": "python",
   "nbconvert_exporter": "python",
   "pygments_lexer": "ipython3",
   "version": "3.12.3"
  }
 },
 "nbformat": 4,
 "nbformat_minor": 2
}
